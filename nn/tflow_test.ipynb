{
 "cells": [
  {
   "cell_type": "code",
   "execution_count": 9,
   "metadata": {
    "collapsed": true
   },
   "outputs": [],
   "source": [
    "import numpy as np\n",
    "import tensorflow as tf"
   ]
  },
  {
   "cell_type": "code",
   "execution_count": 53,
   "metadata": {
    "collapsed": false
   },
   "outputs": [
    {
     "name": "stdout",
     "output_type": "stream",
     "text": [
      "(array([0, 1, 2, 3, 0, 5], dtype=int32), array([[ 1.,  0.,  0.,  0.,  0.,  0.],\n",
      "       [ 0.,  1.,  0.,  0.,  0.,  0.],\n",
      "       [ 0.,  0.,  1.,  0.,  0.,  0.],\n",
      "       [ 0.,  0.,  0.,  1.,  0.,  0.],\n",
      "       [ 1.,  0.,  0.,  0.,  0.,  0.],\n",
      "       [ 0.,  0.,  0.,  0.,  0.,  1.]], dtype=float32), [array([ 1.,  0.,  0.,  0.,  1.,  0.], dtype=float32), array([ 0.,  1.,  0.,  0.,  0.,  0.], dtype=float32), array([ 0.,  0.,  1.,  0.,  0.,  0.], dtype=float32), array([ 0.,  0.,  0.,  1.,  0.,  0.], dtype=float32), array([ 0.,  0.,  0.,  0.,  0.,  0.], dtype=float32), array([ 0.,  0.,  0.,  0.,  0.,  1.], dtype=float32)])\n"
     ]
    }
   ],
   "source": [
    "#Computation graph \n",
    "\n",
    "#### CHANGES IN TFLOW ##############\n",
    "x = tf.placeholder(tf.int32, shape = [6])\n",
    "y = tf.one_hot(x, 6)\n",
    "z = tf.unstack(y, axis = 1)\n",
    "####################################\n",
    "\n",
    "# init = tf.global_variables_initializer()\n",
    "\n",
    "sess = tf.Session()\n",
    "\n",
    "# sess.run(init)\n",
    "\n",
    "##### CHANGES BEFORE TFLOW #########\n",
    "feed_x = np.arange(6)\n",
    "feed_x[4] = 0\n",
    "####################################\n",
    "\n",
    "\n",
    "##### SEE RESULTS ##################\n",
    "print sess.run((x,y, z), feed_dict={x: feed_x})\n",
    "####################################"
   ]
  },
  {
   "cell_type": "code",
   "execution_count": null,
   "metadata": {
    "collapsed": true
   },
   "outputs": [],
   "source": []
  },
  {
   "cell_type": "code",
   "execution_count": null,
   "metadata": {
    "collapsed": true
   },
   "outputs": [],
   "source": []
  }
 ],
 "metadata": {
  "kernelspec": {
   "display_name": "Python [conda root]",
   "language": "python",
   "name": "conda-root-py"
  },
  "language_info": {
   "codemirror_mode": {
    "name": "ipython",
    "version": 2
   },
   "file_extension": ".py",
   "mimetype": "text/x-python",
   "name": "python",
   "nbconvert_exporter": "python",
   "pygments_lexer": "ipython2",
   "version": "2.7.13"
  }
 },
 "nbformat": 4,
 "nbformat_minor": 2
}
